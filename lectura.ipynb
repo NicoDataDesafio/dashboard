{
 "cells": [
  {
   "cell_type": "code",
   "execution_count": 1,
   "metadata": {},
   "outputs": [],
   "source": [
    "import psycopg2\n",
    "import pandas as pd"
   ]
  },
  {
   "cell_type": "code",
   "execution_count": 2,
   "metadata": {},
   "outputs": [],
   "source": [
    "my_database = \"chatbot_8n2w\"\n",
    "my_host = \"dpg-cp6qaka0si5c73aigcc0-a.frankfurt-postgres.render.com\"\n",
    "my_password = \"UmxrGACXMb3Y1jaYLwnuS5zQDUBtXWg6\"\n",
    "my_port = 5432 \n",
    "my_user = \"chatbot_8n2w_user\""
   ]
  },
  {
   "cell_type": "code",
   "execution_count": 3,
   "metadata": {},
   "outputs": [],
   "source": [
    "HOST = my_host\n",
    "DATABASE = my_database\n",
    "USER = my_user\n",
    "PASSWORD = my_password\n",
    "PORT = my_port  # Asegúrate de que este valor sea un entero\n",
    "\n",
    "# Configura la conexión a la base de datos\n",
    "def get_db_connection():\n",
    "    return psycopg2.connect(\n",
    "        host=HOST,\n",
    "        database=DATABASE,\n",
    "        user=USER,\n",
    "        password=PASSWORD,\n",
    "        port=PORT\n",
    "    )"
   ]
  },
  {
   "cell_type": "code",
   "execution_count": 4,
   "metadata": {},
   "outputs": [
    {
     "name": "stdout",
     "output_type": "stream",
     "text": [
      "Connection successful!\n"
     ]
    }
   ],
   "source": [
    "\n",
    "try:\n",
    "  get_db_connection()\n",
    "  print(\"Connection successful!\")\n",
    "except Exception as e:\n",
    "  print(\"Connection failed:\", e)"
   ]
  },
  {
   "cell_type": "code",
   "execution_count": 5,
   "metadata": {},
   "outputs": [],
   "source": [
    "\n",
    "crsr = get_db_connection().cursor()"
   ]
  },
  {
   "cell_type": "code",
   "execution_count": 6,
   "metadata": {},
   "outputs": [],
   "source": [
    "# Con esta función leemos los datos y lo pasamos a un DataFrame de Pandas\n",
    "def sql_query(query):\n",
    "\n",
    "    # Ejecuta la query\n",
    "    crsr.execute(query)\n",
    "\n",
    "    # Almacena los datos de la query \n",
    "    ans = crsr.fetchall()\n",
    "\n",
    "    # Obtenemos los nombres de las columnas de la tabla\n",
    "    names = [description[0] for description in crsr.description]\n",
    "\n",
    "    return pd.DataFrame(ans,columns=names)"
   ]
  },
  {
   "cell_type": "code",
   "execution_count": 7,
   "metadata": {},
   "outputs": [
    {
     "name": "stdout",
     "output_type": "stream",
     "text": [
      "messages\n"
     ]
    }
   ],
   "source": [
    "try:\n",
    "\n",
    "    # Create a cursor object\n",
    "    cur = crsr\n",
    "\n",
    "    # Execute the query to get table names (using information_schema instead of sqlite_master)\n",
    "    cur.execute(\"\"\"\n",
    "        SELECT table_name\n",
    "        FROM information_schema.tables\n",
    "        WHERE table_schema = 'public';  -- Modify 'public' if your tables are in a different schema\n",
    "    \"\"\")\n",
    "\n",
    "    # Fetch all table names as a list of tuples\n",
    "    table_names = cur.fetchall()\n",
    "\n",
    "    # Iterate through the list and print table names\n",
    "    for table_name in table_names:\n",
    "        print(table_name[0])  # Access the first element (table name) in each tuple\n",
    "\n",
    "except Exception as e:\n",
    "    print(\"Error:\", e)\n",
    "finally:\n",
    "    # Close the cursor and connection (important to release resources)\n",
    "    if cur is not None:\n",
    "        cur.close()\n",
    "    if get_db_connection() is not None:\n",
    "        get_db_connection().close()\n",
    "\n"
   ]
  },
  {
   "cell_type": "code",
   "execution_count": 8,
   "metadata": {},
   "outputs": [],
   "source": [
    "# Create a cursor object\n",
    "crsr = get_db_connection().cursor()\n",
    "cur = crsr\n",
    "\n",
    "    # Execute the query to get table names (using information_schema instead of sqlite_master)\n",
    "cur.execute(\"\"\"\n",
    "        SELECT table_name\n",
    "        FROM information_schema.tables\n",
    "        WHERE table_schema = 'public';  -- Modify 'public' if your tables are in a different schema\n",
    "    \"\"\")\n",
    "\n",
    "    # Fetch all table names as a list of tuples\n",
    "table_names = cur.fetchall()"
   ]
  },
  {
   "cell_type": "code",
   "execution_count": 9,
   "metadata": {},
   "outputs": [
    {
     "data": {
      "text/plain": [
       "[('messages',)]"
      ]
     },
     "execution_count": 9,
     "metadata": {},
     "output_type": "execute_result"
    }
   ],
   "source": [
    "table_names"
   ]
  },
  {
   "cell_type": "code",
   "execution_count": 10,
   "metadata": {},
   "outputs": [
    {
     "data": {
      "text/html": [
       "<div>\n",
       "<style scoped>\n",
       "    .dataframe tbody tr th:only-of-type {\n",
       "        vertical-align: middle;\n",
       "    }\n",
       "\n",
       "    .dataframe tbody tr th {\n",
       "        vertical-align: top;\n",
       "    }\n",
       "\n",
       "    .dataframe thead th {\n",
       "        text-align: right;\n",
       "    }\n",
       "</style>\n",
       "<table border=\"1\" class=\"dataframe\">\n",
       "  <thead>\n",
       "    <tr style=\"text-align: right;\">\n",
       "      <th></th>\n",
       "      <th>id</th>\n",
       "      <th>pregunta</th>\n",
       "      <th>respuesta</th>\n",
       "      <th>created_at</th>\n",
       "    </tr>\n",
       "  </thead>\n",
       "  <tbody>\n",
       "    <tr>\n",
       "      <th>0</th>\n",
       "      <td>1</td>\n",
       "      <td>hola, buenos días</td>\n",
       "      <td>¡Buen día! ¿Cómo puedo ser de ayuda?</td>\n",
       "      <td>2024-05-22 09:06:49.459829</td>\n",
       "    </tr>\n",
       "    <tr>\n",
       "      <th>1</th>\n",
       "      <td>2</td>\n",
       "      <td>quiero información sobre los servicios que ofr...</td>\n",
       "      <td>Actualmente contamos con múltiples servicios. ...</td>\n",
       "      <td>2024-05-22 09:07:01.872960</td>\n",
       "    </tr>\n",
       "    <tr>\n",
       "      <th>2</th>\n",
       "      <td>3</td>\n",
       "      <td>me interesa la preparación de exámenes</td>\n",
       "      <td>Nuestros servicios de preparación de exámenes ...</td>\n",
       "      <td>2024-05-22 09:07:16.952673</td>\n",
       "    </tr>\n",
       "    <tr>\n",
       "      <th>3</th>\n",
       "      <td>4</td>\n",
       "      <td>sí, quiero más información</td>\n",
       "      <td>Para obtener más detalles sobre cómo participa...</td>\n",
       "      <td>2024-05-22 09:07:28.267988</td>\n",
       "    </tr>\n",
       "    <tr>\n",
       "      <th>4</th>\n",
       "      <td>5</td>\n",
       "      <td>hola</td>\n",
       "      <td>¡Hola! ¿Cómo puedo ayudarte hoy?</td>\n",
       "      <td>2024-05-22 09:45:42.105048</td>\n",
       "    </tr>\n",
       "    <tr>\n",
       "      <th>...</th>\n",
       "      <td>...</td>\n",
       "      <td>...</td>\n",
       "      <td>...</td>\n",
       "      <td>...</td>\n",
       "    </tr>\n",
       "    <tr>\n",
       "      <th>479</th>\n",
       "      <td>486</td>\n",
       "      <td>Donde me puedo ir de campamentos</td>\n",
       "      <td>Ofrecemos una variedad de campamentos para jóv...</td>\n",
       "      <td>2024-05-24 08:35:37.184177</td>\n",
       "    </tr>\n",
       "    <tr>\n",
       "      <th>480</th>\n",
       "      <td>487</td>\n",
       "      <td>¿Hola?</td>\n",
       "      <td>Perdona, no tengo clara la pregunta, ¿puedes r...</td>\n",
       "      <td>2024-05-24 08:37:01.352275</td>\n",
       "    </tr>\n",
       "    <tr>\n",
       "      <th>481</th>\n",
       "      <td>488</td>\n",
       "      <td>hola@</td>\n",
       "      <td>¡Hola! Bienvenido a Beyond Education. ¿Cómo pu...</td>\n",
       "      <td>2024-05-24 08:37:35.168687</td>\n",
       "    </tr>\n",
       "    <tr>\n",
       "      <th>482</th>\n",
       "      <td>489</td>\n",
       "      <td>¿Hola?</td>\n",
       "      <td>Perdona, no tengo clara la pregunta, ¿puedes r...</td>\n",
       "      <td>2024-05-24 08:43:26.583907</td>\n",
       "    </tr>\n",
       "    <tr>\n",
       "      <th>483</th>\n",
       "      <td>490</td>\n",
       "      <td>¿Hola?</td>\n",
       "      <td>Perdona, no tengo clara la pregunta, ¿puedes r...</td>\n",
       "      <td>2024-05-24 08:43:34.249835</td>\n",
       "    </tr>\n",
       "  </tbody>\n",
       "</table>\n",
       "<p>484 rows × 4 columns</p>\n",
       "</div>"
      ],
      "text/plain": [
       "      id                                           pregunta  \\\n",
       "0      1                                  hola, buenos días   \n",
       "1      2  quiero información sobre los servicios que ofr...   \n",
       "2      3             me interesa la preparación de exámenes   \n",
       "3      4                         sí, quiero más información   \n",
       "4      5                                               hola   \n",
       "..   ...                                                ...   \n",
       "479  486                   Donde me puedo ir de campamentos   \n",
       "480  487                                             ¿Hola?   \n",
       "481  488                                              hola@   \n",
       "482  489                                             ¿Hola?   \n",
       "483  490                                             ¿Hola?   \n",
       "\n",
       "                                             respuesta  \\\n",
       "0                 ¡Buen día! ¿Cómo puedo ser de ayuda?   \n",
       "1    Actualmente contamos con múltiples servicios. ...   \n",
       "2    Nuestros servicios de preparación de exámenes ...   \n",
       "3    Para obtener más detalles sobre cómo participa...   \n",
       "4                     ¡Hola! ¿Cómo puedo ayudarte hoy?   \n",
       "..                                                 ...   \n",
       "479  Ofrecemos una variedad de campamentos para jóv...   \n",
       "480  Perdona, no tengo clara la pregunta, ¿puedes r...   \n",
       "481  ¡Hola! Bienvenido a Beyond Education. ¿Cómo pu...   \n",
       "482  Perdona, no tengo clara la pregunta, ¿puedes r...   \n",
       "483  Perdona, no tengo clara la pregunta, ¿puedes r...   \n",
       "\n",
       "                    created_at  \n",
       "0   2024-05-22 09:06:49.459829  \n",
       "1   2024-05-22 09:07:01.872960  \n",
       "2   2024-05-22 09:07:16.952673  \n",
       "3   2024-05-22 09:07:28.267988  \n",
       "4   2024-05-22 09:45:42.105048  \n",
       "..                         ...  \n",
       "479 2024-05-24 08:35:37.184177  \n",
       "480 2024-05-24 08:37:01.352275  \n",
       "481 2024-05-24 08:37:35.168687  \n",
       "482 2024-05-24 08:43:26.583907  \n",
       "483 2024-05-24 08:43:34.249835  \n",
       "\n",
       "[484 rows x 4 columns]"
      ]
     },
     "execution_count": 10,
     "metadata": {},
     "output_type": "execute_result"
    }
   ],
   "source": [
    "query = '''\n",
    "SELECT * \n",
    "FROM messages\n",
    "'''\n",
    "\n",
    "df = sql_query(query)\n",
    "df"
   ]
  },
  {
   "cell_type": "code",
   "execution_count": 11,
   "metadata": {},
   "outputs": [],
   "source": [
    "df.set_index(\"id\",inplace=True)"
   ]
  },
  {
   "cell_type": "code",
   "execution_count": 12,
   "metadata": {},
   "outputs": [
    {
     "data": {
      "text/html": [
       "<div>\n",
       "<style scoped>\n",
       "    .dataframe tbody tr th:only-of-type {\n",
       "        vertical-align: middle;\n",
       "    }\n",
       "\n",
       "    .dataframe tbody tr th {\n",
       "        vertical-align: top;\n",
       "    }\n",
       "\n",
       "    .dataframe thead th {\n",
       "        text-align: right;\n",
       "    }\n",
       "</style>\n",
       "<table border=\"1\" class=\"dataframe\">\n",
       "  <thead>\n",
       "    <tr style=\"text-align: right;\">\n",
       "      <th></th>\n",
       "      <th>pregunta</th>\n",
       "      <th>respuesta</th>\n",
       "      <th>created_at</th>\n",
       "    </tr>\n",
       "    <tr>\n",
       "      <th>id</th>\n",
       "      <th></th>\n",
       "      <th></th>\n",
       "      <th></th>\n",
       "    </tr>\n",
       "  </thead>\n",
       "  <tbody>\n",
       "    <tr>\n",
       "      <th>1</th>\n",
       "      <td>hola, buenos días</td>\n",
       "      <td>¡Buen día! ¿Cómo puedo ser de ayuda?</td>\n",
       "      <td>2024-05-22 09:06:49.459829</td>\n",
       "    </tr>\n",
       "    <tr>\n",
       "      <th>2</th>\n",
       "      <td>quiero información sobre los servicios que ofr...</td>\n",
       "      <td>Actualmente contamos con múltiples servicios. ...</td>\n",
       "      <td>2024-05-22 09:07:01.872960</td>\n",
       "    </tr>\n",
       "    <tr>\n",
       "      <th>3</th>\n",
       "      <td>me interesa la preparación de exámenes</td>\n",
       "      <td>Nuestros servicios de preparación de exámenes ...</td>\n",
       "      <td>2024-05-22 09:07:16.952673</td>\n",
       "    </tr>\n",
       "    <tr>\n",
       "      <th>4</th>\n",
       "      <td>sí, quiero más información</td>\n",
       "      <td>Para obtener más detalles sobre cómo participa...</td>\n",
       "      <td>2024-05-22 09:07:28.267988</td>\n",
       "    </tr>\n",
       "    <tr>\n",
       "      <th>5</th>\n",
       "      <td>hola</td>\n",
       "      <td>¡Hola! ¿Cómo puedo ayudarte hoy?</td>\n",
       "      <td>2024-05-22 09:45:42.105048</td>\n",
       "    </tr>\n",
       "    <tr>\n",
       "      <th>...</th>\n",
       "      <td>...</td>\n",
       "      <td>...</td>\n",
       "      <td>...</td>\n",
       "    </tr>\n",
       "    <tr>\n",
       "      <th>486</th>\n",
       "      <td>Donde me puedo ir de campamentos</td>\n",
       "      <td>Ofrecemos una variedad de campamentos para jóv...</td>\n",
       "      <td>2024-05-24 08:35:37.184177</td>\n",
       "    </tr>\n",
       "    <tr>\n",
       "      <th>487</th>\n",
       "      <td>¿Hola?</td>\n",
       "      <td>Perdona, no tengo clara la pregunta, ¿puedes r...</td>\n",
       "      <td>2024-05-24 08:37:01.352275</td>\n",
       "    </tr>\n",
       "    <tr>\n",
       "      <th>488</th>\n",
       "      <td>hola@</td>\n",
       "      <td>¡Hola! Bienvenido a Beyond Education. ¿Cómo pu...</td>\n",
       "      <td>2024-05-24 08:37:35.168687</td>\n",
       "    </tr>\n",
       "    <tr>\n",
       "      <th>489</th>\n",
       "      <td>¿Hola?</td>\n",
       "      <td>Perdona, no tengo clara la pregunta, ¿puedes r...</td>\n",
       "      <td>2024-05-24 08:43:26.583907</td>\n",
       "    </tr>\n",
       "    <tr>\n",
       "      <th>490</th>\n",
       "      <td>¿Hola?</td>\n",
       "      <td>Perdona, no tengo clara la pregunta, ¿puedes r...</td>\n",
       "      <td>2024-05-24 08:43:34.249835</td>\n",
       "    </tr>\n",
       "  </tbody>\n",
       "</table>\n",
       "<p>484 rows × 3 columns</p>\n",
       "</div>"
      ],
      "text/plain": [
       "                                              pregunta  \\\n",
       "id                                                       \n",
       "1                                    hola, buenos días   \n",
       "2    quiero información sobre los servicios que ofr...   \n",
       "3               me interesa la preparación de exámenes   \n",
       "4                           sí, quiero más información   \n",
       "5                                                 hola   \n",
       "..                                                 ...   \n",
       "486                   Donde me puedo ir de campamentos   \n",
       "487                                             ¿Hola?   \n",
       "488                                              hola@   \n",
       "489                                             ¿Hola?   \n",
       "490                                             ¿Hola?   \n",
       "\n",
       "                                             respuesta  \\\n",
       "id                                                       \n",
       "1                 ¡Buen día! ¿Cómo puedo ser de ayuda?   \n",
       "2    Actualmente contamos con múltiples servicios. ...   \n",
       "3    Nuestros servicios de preparación de exámenes ...   \n",
       "4    Para obtener más detalles sobre cómo participa...   \n",
       "5                     ¡Hola! ¿Cómo puedo ayudarte hoy?   \n",
       "..                                                 ...   \n",
       "486  Ofrecemos una variedad de campamentos para jóv...   \n",
       "487  Perdona, no tengo clara la pregunta, ¿puedes r...   \n",
       "488  ¡Hola! Bienvenido a Beyond Education. ¿Cómo pu...   \n",
       "489  Perdona, no tengo clara la pregunta, ¿puedes r...   \n",
       "490  Perdona, no tengo clara la pregunta, ¿puedes r...   \n",
       "\n",
       "                    created_at  \n",
       "id                              \n",
       "1   2024-05-22 09:06:49.459829  \n",
       "2   2024-05-22 09:07:01.872960  \n",
       "3   2024-05-22 09:07:16.952673  \n",
       "4   2024-05-22 09:07:28.267988  \n",
       "5   2024-05-22 09:45:42.105048  \n",
       "..                         ...  \n",
       "486 2024-05-24 08:35:37.184177  \n",
       "487 2024-05-24 08:37:01.352275  \n",
       "488 2024-05-24 08:37:35.168687  \n",
       "489 2024-05-24 08:43:26.583907  \n",
       "490 2024-05-24 08:43:34.249835  \n",
       "\n",
       "[484 rows x 3 columns]"
      ]
     },
     "execution_count": 12,
     "metadata": {},
     "output_type": "execute_result"
    }
   ],
   "source": [
    "df"
   ]
  },
  {
   "cell_type": "code",
   "execution_count": 14,
   "metadata": {},
   "outputs": [
    {
     "data": {
      "text/plain": [
       "id\n",
       "1                                  [hola,, buenos, días]\n",
       "2      [quiero, información, sobre, los, servicios, q...\n",
       "3          [me, interesa, la, preparación, de, exámenes]\n",
       "4                        [sí,, quiero, más, información]\n",
       "5                                                 [hola]\n",
       "                             ...                        \n",
       "486              [Donde, me, puedo, ir, de, campamentos]\n",
       "487                                             [¿Hola?]\n",
       "488                                              [hola@]\n",
       "489                                             [¿Hola?]\n",
       "490                                             [¿Hola?]\n",
       "Name: pregunta, Length: 484, dtype: object"
      ]
     },
     "execution_count": 14,
     "metadata": {},
     "output_type": "execute_result"
    }
   ],
   "source": [
    "df['pregunta'].str.split(\" \")"
   ]
  },
  {
   "cell_type": "code",
   "execution_count": 15,
   "metadata": {},
   "outputs": [],
   "source": [
    "lista_palabras = []\n",
    "for topic in df['pregunta']:\n",
    "    for palabra in topic.split(\" \"):\n",
    "        lista_palabras.append(palabra.lower())"
   ]
  },
  {
   "cell_type": "code",
   "execution_count": 16,
   "metadata": {},
   "outputs": [
    {
     "data": {
      "text/plain": [
       "de          114\n",
       "en           82\n",
       "quiero       74\n",
       "que          66\n",
       "me           60\n",
       "           ... \n",
       "cv            1\n",
       "voostros      1\n",
       "edad          1\n",
       "esto          1\n",
       "hola@         1\n",
       "Name: count, Length: 372, dtype: int64"
      ]
     },
     "execution_count": 16,
     "metadata": {},
     "output_type": "execute_result"
    }
   ],
   "source": [
    "pd.Series(lista_palabras).value_counts()"
   ]
  },
  {
   "cell_type": "code",
   "execution_count": 18,
   "metadata": {},
   "outputs": [],
   "source": [
    "import numpy as np"
   ]
  },
  {
   "cell_type": "code",
   "execution_count": 30,
   "metadata": {},
   "outputs": [
    {
     "data": {
      "text/html": [
       "<div>\n",
       "<style scoped>\n",
       "    .dataframe tbody tr th:only-of-type {\n",
       "        vertical-align: middle;\n",
       "    }\n",
       "\n",
       "    .dataframe tbody tr th {\n",
       "        vertical-align: top;\n",
       "    }\n",
       "\n",
       "    .dataframe thead th {\n",
       "        text-align: right;\n",
       "    }\n",
       "</style>\n",
       "<table border=\"1\" class=\"dataframe\">\n",
       "  <thead>\n",
       "    <tr style=\"text-align: right;\">\n",
       "      <th></th>\n",
       "      <th>servicios</th>\n",
       "    </tr>\n",
       "  </thead>\n",
       "  <tbody>\n",
       "    <tr>\n",
       "      <th>0</th>\n",
       "      <td>30</td>\n",
       "    </tr>\n",
       "  </tbody>\n",
       "</table>\n",
       "</div>"
      ],
      "text/plain": [
       "   servicios\n",
       "0         30"
      ]
     },
     "execution_count": 30,
     "metadata": {},
     "output_type": "execute_result"
    }
   ],
   "source": [
    "\n",
    "servicios = len(list(np.where(df['pregunta'].str.contains(\"servicios\")))[0])\n",
    "\n",
    "\n",
    "df_servicios = pd.DataFrame({'servicios': [servicios]})\n",
    "\n",
    "df_servicios\n"
   ]
  },
  {
   "cell_type": "code",
   "execution_count": 19,
   "metadata": {},
   "outputs": [
    {
     "data": {
      "text/plain": [
       "20"
      ]
     },
     "execution_count": 19,
     "metadata": {},
     "output_type": "execute_result"
    }
   ],
   "source": [
    "asesoramiento = list(np.where(df['pregunta'].str.contains(\"asesoramiento\")))\n",
    "len(asesoramiento[0])"
   ]
  },
  {
   "cell_type": "code",
   "execution_count": 20,
   "metadata": {},
   "outputs": [
    {
     "data": {
      "text/plain": [
       "68"
      ]
     },
     "execution_count": 20,
     "metadata": {},
     "output_type": "execute_result"
    }
   ],
   "source": [
    "campa = list(np.where(df['pregunta'].str.contains(\"campamento\")))\n",
    "len(campa[0])"
   ]
  },
  {
   "cell_type": "code",
   "execution_count": 25,
   "metadata": {},
   "outputs": [
    {
     "data": {
      "text/plain": [
       "17"
      ]
     },
     "execution_count": 25,
     "metadata": {},
     "output_type": "execute_result"
    }
   ],
   "source": [
    "voluntariado = list(np.where(df['pregunta'].str.contains(\"voluntariado\")))\n",
    "len(voluntariado[0])"
   ]
  },
  {
   "cell_type": "code",
   "execution_count": 28,
   "metadata": {},
   "outputs": [
    {
     "data": {
      "text/plain": [
       "10"
      ]
     },
     "execution_count": 28,
     "metadata": {},
     "output_type": "execute_result"
    }
   ],
   "source": [
    "universidades = list(np.where(df['pregunta'].str.contains(\"universidad\")))\n",
    "len(universidades[0])"
   ]
  },
  {
   "cell_type": "code",
   "execution_count": 31,
   "metadata": {},
   "outputs": [
    {
     "data": {
      "text/plain": [
       "9"
      ]
     },
     "execution_count": 31,
     "metadata": {},
     "output_type": "execute_result"
    }
   ],
   "source": [
    "ingles = list(np.where(df['pregunta'].str.contains(\"ingles\")))\n",
    "len(ingles[0])"
   ]
  },
  {
   "cell_type": "code",
   "execution_count": 47,
   "metadata": {},
   "outputs": [
    {
     "data": {
      "text/plain": [
       "6"
      ]
     },
     "execution_count": 47,
     "metadata": {},
     "output_type": "execute_result"
    }
   ],
   "source": [
    "contacto = list(np.where(df['pregunta'].str.contains(\"contacto\")))\n",
    "len(contacto[0])"
   ]
  },
  {
   "cell_type": "code",
   "execution_count": 13,
   "metadata": {},
   "outputs": [],
   "source": [
    "def generar_graficos(df):\n",
    "    \"\"\"\n",
    "    Función para iterar sobre un DataFrame y generar gráficos Plotly.\n",
    "\n",
    "    Args:\n",
    "        df (pandas.DataFrame): El DataFrame a procesar.\n",
    "\n",
    "    Returns:\n",
    "        None: No se devuelve ningún valor.\n",
    "    \"\"\"\n",
    "\n",
    "    # Recorre las columnas del DataFrame\n",
    "    for columna in df.columns:\n",
    "        # Crea un gráfico de dispersión para cada columna\n",
    "        fig = px.scatter(df, x=columna, y='otra_columna')  # Reemplaza 'otra_columna' con la variable Y deseada\n",
    "\n",
    "        # Muestra el gráfico en Streamlit\n",
    "        st.plotly_chart(fig)\n"
   ]
  },
  {
   "cell_type": "code",
   "execution_count": 48,
   "metadata": {},
   "outputs": [
    {
     "name": "stdout",
     "output_type": "stream",
     "text": [
      "        categoria  conteo\n",
      "0       servicios       4\n",
      "1     información       0\n",
      "2   asesoramiento       0\n",
      "3      campamento       0\n",
      "4    voluntariado       0\n",
      "5     universidad       0\n",
      "6     orientacion       0\n",
      "7      vocacional       0\n",
      "8     profesional       0\n",
      "9            hijo       0\n",
      "10     extranjero       0\n",
      "11         verano       0\n",
      "12        carrera       0\n",
      "13        destino       0\n",
      "14         ingles       0\n",
      "15           visa       0\n",
      "16           beca       0\n",
      "17             cv       0\n",
      "18        gestion       0\n",
      "19       estudiar       0\n"
     ]
    }
   ],
   "source": [
    "\n",
    "data = {'pregunta': ['¿Cuáles son los servicios?', 'Me interesa conocer los servicios.', 'No sé cuáles son los servicios.', 'No necesito servicios.']}\n",
    "df = pd.DataFrame(data)\n",
    "\n",
    "\n",
    "servicios_count = len(list(np.where(df['pregunta'].str.contains(\"servicios\", case=False))[0]))\n",
    "new_data = {'categoria': ['servicios'], 'conteo': [servicios_count]}\n",
    "new_df = pd.DataFrame(new_data)\n",
    "\n",
    "\n",
    "def add_category_count(new_df, df, category):\n",
    "    count = len(list(np.where(df['pregunta'].str.contains(category, case=False))[0]))\n",
    "    new_row = pd.DataFrame({'categoria': [category], 'conteo': [count]})\n",
    "    new_df = pd.concat([new_df, new_row], ignore_index=True)\n",
    "    return new_df\n",
    "\n",
    "\n",
    "categories = ['información', 'asesoramiento', 'campamento', 'voluntariado', 'universidad', 'orientacion', 'vocacional', 'profesional', 'hijo', 'extranjero', 'verano', 'carrera', 'destino', 'ingles', 'visa', 'beca', 'cv', 'gestion', 'estudiar']\n",
    "\n",
    "for category in categories:\n",
    "    new_df = add_category_count(new_df, df, category)\n",
    "\n",
    "print(new_df)"
   ]
  }
 ],
 "metadata": {
  "kernelspec": {
   "display_name": "Python 3",
   "language": "python",
   "name": "python3"
  },
  "language_info": {
   "codemirror_mode": {
    "name": "ipython",
    "version": 3
   },
   "file_extension": ".py",
   "mimetype": "text/x-python",
   "name": "python",
   "nbconvert_exporter": "python",
   "pygments_lexer": "ipython3",
   "version": "3.12.1"
  }
 },
 "nbformat": 4,
 "nbformat_minor": 2
}
